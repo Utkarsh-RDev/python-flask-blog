{
 "cells": [
  {
   "cell_type": "code",
   "execution_count": 1,
   "metadata": {},
   "outputs": [],
   "source": [
    "class Employee:\n",
    "    \n",
    "    increament = 1.5\n",
    "    no_of_employee = 0\n",
    "    def __init__(self,fname,lname,salary):\n",
    "        self.fname = fname\n",
    "        self.lname = lname\n",
    "        self.salary = salary\n",
    "        Employee.no_of_employee += 1\n",
    "        \n",
    "    def increase(self):\n",
    "        self.salary = int(self.salary * self.increament)\n",
    "        \n",
    "    @property\n",
    "    def email(self):\n",
    "        if self.fname == None:\n",
    "            return \"Email not set\"\n",
    "        else:\n",
    "            return self.fname + self.lname + '@email.com'\n",
    "    \n",
    "    @email.setter\n",
    "    def email(self, given_email):\n",
    "        name_list = given_email.split('@')[0].split(\".\")\n",
    "        self.fname = name_list[0]\n",
    "        self.lname = name_list[1]\n",
    "   \n",
    "    @email.deleter\n",
    "    def email(self):\n",
    "        self.fname = None\n",
    "        self.lname = None\n",
    "    \n",
    "    @classmethod \n",
    "    def change_increament(cls,amount):\n",
    "        cls.increament = amount\n",
    "    \n",
    "    @classmethod\n",
    "    def from_str(cls,emp_str):\n",
    "        fname,lname,salary = emp_str.split(\"-\")\n",
    "        return cls(fname,lname,salary)\n",
    "    \n",
    "    @staticmethod\n",
    "    def isopen(day):\n",
    "        if day == (\"sunday\" or \"Sunday\"):\n",
    "            return False\n",
    "        else:\n",
    "            return True\n",
    "    \n",
    "    #dundermethod\n",
    "    def __add__(self, other):\n",
    "        return (self.salary + other.salary)\n",
    "    \n",
    "    def __repr__(self):\n",
    "        return \"Employee({},{},{})\".format(self.fname,self.lname,self.salary)\n",
    "    \n",
    "    def __str__(self):\n",
    "        return \"The name of employee is {}\".format(self.fname + \" \" + self.lname)\n",
    "    "
   ]
  },
  {
   "cell_type": "code",
   "execution_count": 2,
   "metadata": {},
   "outputs": [],
   "source": [
    "utkarsh = Employee('utkarsh','singh',40000)\n",
    "deepak = Employee('Deepak','singh',45000)"
   ]
  },
  {
   "cell_type": "code",
   "execution_count": 3,
   "metadata": {},
   "outputs": [
    {
     "name": "stdout",
     "output_type": "stream",
     "text": [
      "utkarsh 45000\n"
     ]
    }
   ],
   "source": [
    "print(utkarsh.fname, deepak.salary)"
   ]
  },
  {
   "cell_type": "code",
   "execution_count": 4,
   "metadata": {},
   "outputs": [],
   "source": [
    "deepak.increase()"
   ]
  },
  {
   "cell_type": "code",
   "execution_count": 5,
   "metadata": {},
   "outputs": [
    {
     "name": "stdout",
     "output_type": "stream",
     "text": [
      "67500\n"
     ]
    }
   ],
   "source": [
    "print(deepak.salary)"
   ]
  },
  {
   "cell_type": "code",
   "execution_count": 6,
   "metadata": {},
   "outputs": [],
   "source": [
    "Employee.change_increament(4)"
   ]
  },
  {
   "cell_type": "code",
   "execution_count": 7,
   "metadata": {},
   "outputs": [],
   "source": [
    "deepak.increase()"
   ]
  },
  {
   "cell_type": "code",
   "execution_count": 8,
   "metadata": {},
   "outputs": [
    {
     "name": "stdout",
     "output_type": "stream",
     "text": [
      "270000\n"
     ]
    }
   ],
   "source": [
    "print(deepak.salary)"
   ]
  },
  {
   "cell_type": "code",
   "execution_count": 9,
   "metadata": {},
   "outputs": [
    {
     "name": "stdout",
     "output_type": "stream",
     "text": [
      "2\n"
     ]
    }
   ],
   "source": [
    "print(Employee.no_of_employee)"
   ]
  },
  {
   "cell_type": "code",
   "execution_count": 10,
   "metadata": {},
   "outputs": [],
   "source": [
    "vivek = Employee.from_str(\"vivek-singh-50000\")"
   ]
  },
  {
   "cell_type": "code",
   "execution_count": 11,
   "metadata": {},
   "outputs": [
    {
     "name": "stdout",
     "output_type": "stream",
     "text": [
      "50000\n"
     ]
    }
   ],
   "source": [
    "print(vivek.salary)"
   ]
  },
  {
   "cell_type": "code",
   "execution_count": 12,
   "metadata": {},
   "outputs": [
    {
     "name": "stdout",
     "output_type": "stream",
     "text": [
      "False\n"
     ]
    }
   ],
   "source": [
    "print(Employee.isopen('sunday'))"
   ]
  },
  {
   "cell_type": "code",
   "execution_count": 13,
   "metadata": {},
   "outputs": [],
   "source": [
    "# read the build in dunder methods "
   ]
  },
  {
   "cell_type": "code",
   "execution_count": 14,
   "metadata": {},
   "outputs": [
    {
     "name": "stdout",
     "output_type": "stream",
     "text": [
      "310000\n"
     ]
    }
   ],
   "source": [
    "print(utkarsh+deepak)"
   ]
  },
  {
   "cell_type": "code",
   "execution_count": 15,
   "metadata": {},
   "outputs": [
    {
     "name": "stdout",
     "output_type": "stream",
     "text": [
      "Employee(utkarsh,singh,40000)\n"
     ]
    }
   ],
   "source": [
    "print(repr(utkarsh))"
   ]
  },
  {
   "cell_type": "code",
   "execution_count": 16,
   "metadata": {},
   "outputs": [
    {
     "name": "stdout",
     "output_type": "stream",
     "text": [
      "The name of employee is utkarsh singh\n"
     ]
    }
   ],
   "source": [
    "print(str(utkarsh))"
   ]
  },
  {
   "cell_type": "code",
   "execution_count": 18,
   "metadata": {},
   "outputs": [
    {
     "name": "stdout",
     "output_type": "stream",
     "text": [
      "utkarshKsingh@email.com DeepakKsingh@email.com\n",
      "Deepakkrathore@email.com\n",
      "utkarshKsingh@email.com\n",
      "utkarshKrathore1@email.com\n",
      "Email not set\n"
     ]
    }
   ],
   "source": [
    "if __name__ == '__main__':\n",
    "    utkarsh1 = Employee('utkarsh','Ksingh',40000)\n",
    "    deepak1 = Employee('Deepak','Ksingh',45000)\n",
    "    print(utkarsh1.email,deepak1.email)\n",
    "    deepak1.lname = \"krathore\"\n",
    "    print(deepak1.email)\n",
    "    print(utkarsh1.email)\n",
    "    utkarsh1.email = \"utkarshK.rathore1@email.com\"\n",
    "    print(utkarsh1.email)\n",
    "    del(utkarsh1.email)\n",
    "    print(utkarsh1.email)"
   ]
  },
  {
   "cell_type": "markdown",
   "metadata": {},
   "source": [
    "#### watch this video from 5 minutes\n",
    "https://www.youtube.com/watch?v=zZtiJJRXb34&list=PLu0W_9lII9ahfRrhFcoB-4lpp9YaBmdCP&index=9"
   ]
  },
  {
   "cell_type": "code",
   "execution_count": null,
   "metadata": {},
   "outputs": [],
   "source": []
  }
 ],
 "metadata": {
  "kernelspec": {
   "display_name": "Python 3",
   "language": "python",
   "name": "python3"
  },
  "language_info": {
   "codemirror_mode": {
    "name": "ipython",
    "version": 3
   },
   "file_extension": ".py",
   "mimetype": "text/x-python",
   "name": "python",
   "nbconvert_exporter": "python",
   "pygments_lexer": "ipython3",
   "version": "3.8.5"
  }
 },
 "nbformat": 4,
 "nbformat_minor": 4
}
